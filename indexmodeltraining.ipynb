{
 "cells": [
  {
   "cell_type": "code",
   "execution_count": 1,
   "id": "5f8ee8ea",
   "metadata": {},
   "outputs": [],
   "source": [
    "import pandas as pd\n",
    "import numpy as np\n",
    "from sklearn.model_selection import train_test_split\n",
    "from sklearn.preprocessing import LabelEncoder, StandardScaler\n",
    "import torch\n",
    "import torch.nn as nn\n",
    "import torch.optim as optim\n",
    "from torch.utils.data import TensorDataset, DataLoader"
   ]
  },
  {
   "cell_type": "code",
   "execution_count": 2,
   "id": "1e3d232a",
   "metadata": {},
   "outputs": [],
   "source": [
    "# Load dataset\n",
    "df = pd.read_csv(\"index_finger_keypoints.csv\")\n",
    "\n",
    "# Features and labels\n",
    "X = df.iloc[:, :-1].values\n",
    "y = df.iloc[:, -1].values\n",
    "\n",
    "# Encode class labels\n",
    "label_encoder = LabelEncoder()\n",
    "y_encoded = label_encoder.fit_transform(y)\n",
    "num_classes = len(np.unique(y_encoded))\n",
    "\n",
    "# Normalize features\n",
    "scaler = StandardScaler()\n",
    "X_scaled = scaler.fit_transform(X)\n",
    "\n",
    "# Split data\n",
    "X_train, X_test, y_train, y_test = train_test_split(\n",
    "    X_scaled, y_encoded, test_size=0.2, random_state=42, stratify=y_encoded\n",
    ")\n",
    "\n",
    "# Convert to torch tensors\n",
    "X_train_tensor = torch.tensor(X_train, dtype=torch.float32)\n",
    "y_train_tensor = torch.tensor(y_train, dtype=torch.long)\n",
    "X_test_tensor = torch.tensor(X_test, dtype=torch.float32)\n",
    "y_test_tensor = torch.tensor(y_test, dtype=torch.long)"
   ]
  },
  {
   "cell_type": "code",
   "execution_count": 3,
   "id": "19161087",
   "metadata": {},
   "outputs": [
    {
     "name": "stdout",
     "output_type": "stream",
     "text": [
      "['jump' 'slide' 'swipe_left' 'swipe_right']\n"
     ]
    }
   ],
   "source": [
    "print(np.unique(y))"
   ]
  },
  {
   "cell_type": "code",
   "execution_count": 4,
   "id": "b46c3f1c",
   "metadata": {},
   "outputs": [],
   "source": [
    "# Create DataLoader\n",
    "batch_size = 64\n",
    "train_dataset = TensorDataset(X_train_tensor, y_train_tensor)\n",
    "test_dataset = TensorDataset(X_test_tensor, y_test_tensor)\n",
    "\n",
    "train_loader = DataLoader(train_dataset, batch_size=batch_size, shuffle=True)\n",
    "test_loader = DataLoader(test_dataset, batch_size=batch_size)\n"
   ]
  },
  {
   "cell_type": "code",
   "execution_count": 5,
   "id": "c09abfbf",
   "metadata": {},
   "outputs": [],
   "source": [
    "# Define the model\n",
    "class GestureClassifier(nn.Module):\n",
    "    def __init__(self, input_size, num_classes):\n",
    "        super(GestureClassifier, self).__init__()\n",
    "        self.model = nn.Sequential(\n",
    "            nn.Linear(input_size, 32),\n",
    "            nn.ReLU(),\n",
    "            nn.Linear(32, 16),\n",
    "            nn.ReLU(),\n",
    "            nn.Linear(16, num_classes)\n",
    "        )\n",
    "\n",
    "    def forward(self, x):\n",
    "        return self.model(x)\n",
    "\n",
    "# Initialize model, loss, optimizer\n",
    "model = GestureClassifier(input_size=10, num_classes=num_classes)\n",
    "criterion = nn.CrossEntropyLoss()\n",
    "optimizer = optim.Adam(model.parameters(), lr=0.001)"
   ]
  },
  {
   "cell_type": "code",
   "execution_count": 6,
   "id": "db1e3286",
   "metadata": {},
   "outputs": [
    {
     "name": "stdout",
     "output_type": "stream",
     "text": [
      "Epoch 1/50 | Train Loss: 1.2095 | Train Acc: 0.5274 | Val Loss: 1.0366 | Val Acc: 0.7392\n",
      "Epoch 2/50 | Train Loss: 0.8072 | Train Acc: 0.8575 | Val Loss: 0.5643 | Val Acc: 0.9295\n",
      "Epoch 3/50 | Train Loss: 0.3656 | Train Acc: 0.9589 | Val Loss: 0.2088 | Val Acc: 0.9815\n",
      "Epoch 4/50 | Train Loss: 0.1435 | Train Acc: 0.9839 | Val Loss: 0.0955 | Val Acc: 0.9876\n",
      "Epoch 5/50 | Train Loss: 0.0736 | Train Acc: 0.9898 | Val Loss: 0.0576 | Val Acc: 0.9913\n",
      "Epoch 6/50 | Train Loss: 0.0467 | Train Acc: 0.9926 | Val Loss: 0.0411 | Val Acc: 0.9926\n",
      "Epoch 7/50 | Train Loss: 0.0340 | Train Acc: 0.9944 | Val Loss: 0.0327 | Val Acc: 0.9951\n",
      "Epoch 8/50 | Train Loss: 0.0268 | Train Acc: 0.9951 | Val Loss: 0.0262 | Val Acc: 0.9951\n",
      "Epoch 9/50 | Train Loss: 0.0232 | Train Acc: 0.9960 | Val Loss: 0.0215 | Val Acc: 0.9963\n",
      "Epoch 10/50 | Train Loss: 0.0197 | Train Acc: 0.9960 | Val Loss: 0.0209 | Val Acc: 0.9963\n",
      "Epoch 11/50 | Train Loss: 0.0174 | Train Acc: 0.9960 | Val Loss: 0.0170 | Val Acc: 0.9963\n",
      "Epoch 12/50 | Train Loss: 0.0153 | Train Acc: 0.9966 | Val Loss: 0.0184 | Val Acc: 0.9951\n",
      "Epoch 13/50 | Train Loss: 0.0145 | Train Acc: 0.9957 | Val Loss: 0.0155 | Val Acc: 0.9951\n",
      "Epoch 14/50 | Train Loss: 0.0142 | Train Acc: 0.9960 | Val Loss: 0.0146 | Val Acc: 0.9951\n",
      "Epoch 15/50 | Train Loss: 0.0125 | Train Acc: 0.9963 | Val Loss: 0.0135 | Val Acc: 0.9963\n",
      "Epoch 16/50 | Train Loss: 0.0120 | Train Acc: 0.9963 | Val Loss: 0.0134 | Val Acc: 0.9951\n",
      "Epoch 17/50 | Train Loss: 0.0112 | Train Acc: 0.9966 | Val Loss: 0.0138 | Val Acc: 0.9951\n",
      "Epoch 18/50 | Train Loss: 0.0116 | Train Acc: 0.9957 | Val Loss: 0.0112 | Val Acc: 0.9963\n",
      "Epoch 19/50 | Train Loss: 0.0109 | Train Acc: 0.9960 | Val Loss: 0.0133 | Val Acc: 0.9951\n",
      "Epoch 20/50 | Train Loss: 0.0117 | Train Acc: 0.9969 | Val Loss: 0.0114 | Val Acc: 0.9951\n",
      "Epoch 21/50 | Train Loss: 0.0099 | Train Acc: 0.9963 | Val Loss: 0.0123 | Val Acc: 0.9951\n",
      "Epoch 22/50 | Train Loss: 0.0111 | Train Acc: 0.9963 | Val Loss: 0.0153 | Val Acc: 0.9963\n",
      "Epoch 23/50 | Train Loss: 0.0105 | Train Acc: 0.9969 | Val Loss: 0.0101 | Val Acc: 0.9951\n",
      "Epoch 24/50 | Train Loss: 0.0090 | Train Acc: 0.9963 | Val Loss: 0.0101 | Val Acc: 0.9951\n",
      "Epoch 25/50 | Train Loss: 0.0099 | Train Acc: 0.9963 | Val Loss: 0.0099 | Val Acc: 0.9951\n",
      "Epoch 26/50 | Train Loss: 0.0094 | Train Acc: 0.9966 | Val Loss: 0.0112 | Val Acc: 0.9963\n",
      "Epoch 27/50 | Train Loss: 0.0129 | Train Acc: 0.9963 | Val Loss: 0.0113 | Val Acc: 0.9951\n",
      "Epoch 28/50 | Train Loss: 0.0083 | Train Acc: 0.9966 | Val Loss: 0.0083 | Val Acc: 0.9951\n",
      "Epoch 29/50 | Train Loss: 0.0084 | Train Acc: 0.9963 | Val Loss: 0.0086 | Val Acc: 0.9951\n",
      "Epoch 30/50 | Train Loss: 0.0083 | Train Acc: 0.9963 | Val Loss: 0.0087 | Val Acc: 0.9963\n",
      "Epoch 31/50 | Train Loss: 0.0082 | Train Acc: 0.9966 | Val Loss: 0.0092 | Val Acc: 0.9951\n",
      "Epoch 32/50 | Train Loss: 0.0083 | Train Acc: 0.9966 | Val Loss: 0.0078 | Val Acc: 0.9963\n",
      "Epoch 33/50 | Train Loss: 0.0080 | Train Acc: 0.9963 | Val Loss: 0.0090 | Val Acc: 0.9951\n",
      "Epoch 34/50 | Train Loss: 0.0081 | Train Acc: 0.9963 | Val Loss: 0.0074 | Val Acc: 0.9963\n",
      "Epoch 35/50 | Train Loss: 0.0076 | Train Acc: 0.9966 | Val Loss: 0.0091 | Val Acc: 0.9951\n",
      "Epoch 36/50 | Train Loss: 0.0079 | Train Acc: 0.9966 | Val Loss: 0.0083 | Val Acc: 0.9963\n",
      "Epoch 37/50 | Train Loss: 0.0079 | Train Acc: 0.9963 | Val Loss: 0.0071 | Val Acc: 0.9963\n",
      "Epoch 38/50 | Train Loss: 0.0081 | Train Acc: 0.9963 | Val Loss: 0.0082 | Val Acc: 0.9963\n",
      "Epoch 39/50 | Train Loss: 0.0080 | Train Acc: 0.9966 | Val Loss: 0.0073 | Val Acc: 0.9975\n",
      "Epoch 40/50 | Train Loss: 0.0067 | Train Acc: 0.9972 | Val Loss: 0.0096 | Val Acc: 0.9963\n",
      "Epoch 41/50 | Train Loss: 0.0084 | Train Acc: 0.9966 | Val Loss: 0.0082 | Val Acc: 0.9963\n",
      "Epoch 42/50 | Train Loss: 0.0071 | Train Acc: 0.9966 | Val Loss: 0.0077 | Val Acc: 0.9963\n",
      "Epoch 43/50 | Train Loss: 0.0073 | Train Acc: 0.9963 | Val Loss: 0.0066 | Val Acc: 0.9963\n",
      "Epoch 44/50 | Train Loss: 0.0083 | Train Acc: 0.9966 | Val Loss: 0.0091 | Val Acc: 0.9975\n",
      "Epoch 45/50 | Train Loss: 0.0080 | Train Acc: 0.9963 | Val Loss: 0.0078 | Val Acc: 0.9963\n",
      "Epoch 46/50 | Train Loss: 0.0078 | Train Acc: 0.9969 | Val Loss: 0.0077 | Val Acc: 0.9963\n",
      "Epoch 47/50 | Train Loss: 0.0078 | Train Acc: 0.9969 | Val Loss: 0.0074 | Val Acc: 0.9963\n",
      "Epoch 48/50 | Train Loss: 0.0068 | Train Acc: 0.9966 | Val Loss: 0.0067 | Val Acc: 0.9975\n",
      "Epoch 49/50 | Train Loss: 0.0072 | Train Acc: 0.9969 | Val Loss: 0.0062 | Val Acc: 0.9963\n",
      "Epoch 50/50 | Train Loss: 0.0063 | Train Acc: 0.9966 | Val Loss: 0.0070 | Val Acc: 0.9963\n"
     ]
    }
   ],
   "source": [
    "# Training loop with validation\n",
    "epochs = 50\n",
    "device = torch.device(\"cuda\" if torch.cuda.is_available() else \"cpu\")\n",
    "model.to(device)\n",
    "\n",
    "for epoch in range(epochs):\n",
    "    # Training Phase\n",
    "    model.train()\n",
    "    total_loss = 0\n",
    "    correct = 0\n",
    "    total_train = 0\n",
    "\n",
    "    for batch_X, batch_y in train_loader:\n",
    "        batch_X, batch_y = batch_X.to(device), batch_y.to(device)\n",
    "\n",
    "        optimizer.zero_grad()\n",
    "        outputs = model(batch_X)\n",
    "        loss = criterion(outputs, batch_y)\n",
    "        loss.backward()\n",
    "        optimizer.step()\n",
    "\n",
    "        total_loss += loss.item() * batch_X.size(0)\n",
    "        _, predicted = torch.max(outputs, 1)\n",
    "        correct += (predicted == batch_y).sum().item()\n",
    "        total_train += batch_y.size(0)\n",
    "\n",
    "    train_accuracy = correct / total_train\n",
    "    avg_train_loss = total_loss / total_train\n",
    "\n",
    "    # Validation Phase\n",
    "    model.eval()\n",
    "    val_loss = 0\n",
    "    val_correct = 0\n",
    "    total_val = 0\n",
    "\n",
    "    with torch.no_grad():\n",
    "        for val_X, val_y in test_loader:\n",
    "            val_X, val_y = val_X.to(device), val_y.to(device)\n",
    "\n",
    "            val_outputs = model(val_X)\n",
    "            loss = criterion(val_outputs, val_y)\n",
    "\n",
    "            val_loss += loss.item() * val_X.size(0)\n",
    "            _, val_predicted = torch.max(val_outputs, 1)\n",
    "            val_correct += (val_predicted == val_y).sum().item()\n",
    "            total_val += val_y.size(0)\n",
    "\n",
    "    val_accuracy = val_correct / total_val\n",
    "    avg_val_loss = val_loss / total_val\n",
    "\n",
    "    print(f\"Epoch {epoch+1}/{epochs} | \"\n",
    "          f\"Train Loss: {avg_train_loss:.4f} | Train Acc: {train_accuracy:.4f} | \"\n",
    "          f\"Val Loss: {avg_val_loss:.4f} | Val Acc: {val_accuracy:.4f}\")\n"
   ]
  },
  {
   "cell_type": "code",
   "execution_count": 7,
   "id": "d4dac64b",
   "metadata": {},
   "outputs": [
    {
     "name": "stdout",
     "output_type": "stream",
     "text": [
      "✅ Model and class labels saved.\n"
     ]
    },
    {
     "data": {
      "text/plain": [
       "['scaler.pkl']"
      ]
     },
     "execution_count": 7,
     "metadata": {},
     "output_type": "execute_result"
    }
   ],
   "source": [
    "# Save model and label encoder classes\n",
    "torch.save(model.state_dict(), \"gesture_classifier_model.pth\")\n",
    "np.save(\"gesture_classes.npy\", label_encoder.classes_)\n",
    "print(\"✅ Model and class labels saved.\")\n",
    "import joblib\n",
    "joblib.dump(scaler, 'scaler.pkl')"
   ]
  },
  {
   "cell_type": "code",
   "execution_count": null,
   "id": "a5bc2e16",
   "metadata": {},
   "outputs": [],
   "source": []
  }
 ],
 "metadata": {
  "kernelspec": {
   "display_name": ".venv",
   "language": "python",
   "name": "python3"
  },
  "language_info": {
   "codemirror_mode": {
    "name": "ipython",
    "version": 3
   },
   "file_extension": ".py",
   "mimetype": "text/x-python",
   "name": "python",
   "nbconvert_exporter": "python",
   "pygments_lexer": "ipython3",
   "version": "3.9.22"
  }
 },
 "nbformat": 4,
 "nbformat_minor": 5
}

{
 "cells": [
  {
   "cell_type": "code",
   "execution_count": 1,
   "id": "08d74ccf",
   "metadata": {},
   "outputs": [],
   "source": [
    "import pandas as pd\n",
    "import numpy as np\n",
    "from sklearn.model_selection import train_test_split\n",
    "from sklearn.preprocessing import LabelEncoder, StandardScaler\n",
    "import torch\n",
    "import torch.nn as nn\n",
    "import torch.optim as optim\n",
    "from torch.utils.data import TensorDataset, DataLoader"
   ]
  },
  {
   "cell_type": "code",
   "execution_count": 2,
   "id": "7ba07a7f",
   "metadata": {},
   "outputs": [],
   "source": [
    "# Load dataset\n",
    "df = pd.read_csv(\"hand_keypoints_dataset.csv\")\n",
    "\n",
    "# Features and labels\n",
    "X = df.iloc[:, :-1].values\n",
    "y = df.iloc[:, -1].values\n",
    "\n",
    "# Encode class labels\n",
    "label_encoder = LabelEncoder()\n",
    "y_encoded = label_encoder.fit_transform(y)\n",
    "num_classes = len(np.unique(y_encoded))\n",
    "\n",
    "# Normalize features\n",
    "scaler = StandardScaler()\n",
    "X_scaled = scaler.fit_transform(X)\n",
    "\n",
    "# Split data\n",
    "X_train, X_test, y_train, y_test = train_test_split(\n",
    "    X_scaled, y_encoded, test_size=0.2, random_state=42, stratify=y_encoded\n",
    ")\n",
    "\n",
    "# Convert to torch tensors\n",
    "X_train_tensor = torch.tensor(X_train, dtype=torch.float32)\n",
    "y_train_tensor = torch.tensor(y_train, dtype=torch.long)\n",
    "X_test_tensor = torch.tensor(X_test, dtype=torch.float32)\n",
    "y_test_tensor = torch.tensor(y_test, dtype=torch.long)"
   ]
  },
  {
   "cell_type": "code",
   "execution_count": 3,
   "id": "7b866b3b",
   "metadata": {},
   "outputs": [
    {
     "name": "stdout",
     "output_type": "stream",
     "text": [
      "['jump' 'slide' 'swipe_left' 'swipe_right']\n"
     ]
    }
   ],
   "source": [
    "print(np.unique(y))"
   ]
  },
  {
   "cell_type": "code",
   "execution_count": 4,
   "id": "b76603e1",
   "metadata": {},
   "outputs": [],
   "source": [
    "# Create DataLoader\n",
    "batch_size = 64\n",
    "train_dataset = TensorDataset(X_train_tensor, y_train_tensor)\n",
    "test_dataset = TensorDataset(X_test_tensor, y_test_tensor)\n",
    "\n",
    "train_loader = DataLoader(train_dataset, batch_size=batch_size, shuffle=True)\n",
    "test_loader = DataLoader(test_dataset, batch_size=batch_size)\n"
   ]
  },
  {
   "cell_type": "code",
   "execution_count": 5,
   "id": "4f36718b",
   "metadata": {},
   "outputs": [],
   "source": [
    "# Define the model\n",
    "class GestureClassifier(nn.Module):\n",
    "    def __init__(self, input_size, num_classes):\n",
    "        super(GestureClassifier, self).__init__()\n",
    "        self.model = nn.Sequential(\n",
    "            nn.Linear(input_size, 128),\n",
    "            nn.ReLU(),\n",
    "            nn.Linear(128, 64),\n",
    "            nn.ReLU(),\n",
    "            nn.Linear(64, num_classes)\n",
    "        )\n",
    "\n",
    "    def forward(self, x):\n",
    "        return self.model(x)\n",
    "\n",
    "# Initialize model, loss, optimizer\n",
    "model = GestureClassifier(input_size=63, num_classes=num_classes)\n",
    "criterion = nn.CrossEntropyLoss()\n",
    "optimizer = optim.Adam(model.parameters(), lr=0.001)"
   ]
  },
  {
   "cell_type": "code",
   "execution_count": 6,
   "id": "c16e9767",
   "metadata": {},
   "outputs": [
    {
     "name": "stdout",
     "output_type": "stream",
     "text": [
      "Epoch 1/50 | Train Loss: 0.6569 | Train Acc: 0.8631 | Val Loss: 0.1609 | Val Acc: 0.9642\n",
      "Epoch 2/50 | Train Loss: 0.0677 | Train Acc: 0.9901 | Val Loss: 0.0294 | Val Acc: 0.9951\n",
      "Epoch 3/50 | Train Loss: 0.0189 | Train Acc: 0.9985 | Val Loss: 0.0152 | Val Acc: 0.9951\n",
      "Epoch 4/50 | Train Loss: 0.0109 | Train Acc: 0.9991 | Val Loss: 0.0088 | Val Acc: 0.9975\n",
      "Epoch 5/50 | Train Loss: 0.0081 | Train Acc: 0.9988 | Val Loss: 0.0117 | Val Acc: 0.9963\n",
      "Epoch 6/50 | Train Loss: 0.0073 | Train Acc: 0.9985 | Val Loss: 0.0118 | Val Acc: 0.9963\n",
      "Epoch 7/50 | Train Loss: 0.0060 | Train Acc: 0.9985 | Val Loss: 0.0064 | Val Acc: 0.9975\n",
      "Epoch 8/50 | Train Loss: 0.0049 | Train Acc: 0.9988 | Val Loss: 0.0077 | Val Acc: 0.9975\n",
      "Epoch 9/50 | Train Loss: 0.0066 | Train Acc: 0.9981 | Val Loss: 0.0058 | Val Acc: 0.9975\n",
      "Epoch 10/50 | Train Loss: 0.0048 | Train Acc: 0.9981 | Val Loss: 0.0072 | Val Acc: 0.9963\n",
      "Epoch 11/50 | Train Loss: 0.0041 | Train Acc: 0.9985 | Val Loss: 0.0067 | Val Acc: 0.9963\n",
      "Epoch 12/50 | Train Loss: 0.0037 | Train Acc: 0.9981 | Val Loss: 0.0071 | Val Acc: 0.9963\n",
      "Epoch 13/50 | Train Loss: 0.0042 | Train Acc: 0.9978 | Val Loss: 0.0067 | Val Acc: 0.9975\n",
      "Epoch 14/50 | Train Loss: 0.0035 | Train Acc: 0.9985 | Val Loss: 0.0061 | Val Acc: 0.9975\n",
      "Epoch 15/50 | Train Loss: 0.0039 | Train Acc: 0.9985 | Val Loss: 0.0071 | Val Acc: 0.9963\n",
      "Epoch 16/50 | Train Loss: 0.0038 | Train Acc: 0.9978 | Val Loss: 0.0062 | Val Acc: 0.9963\n",
      "Epoch 17/50 | Train Loss: 0.0034 | Train Acc: 0.9985 | Val Loss: 0.0065 | Val Acc: 0.9963\n",
      "Epoch 18/50 | Train Loss: 0.0033 | Train Acc: 0.9985 | Val Loss: 0.0068 | Val Acc: 0.9963\n",
      "Epoch 19/50 | Train Loss: 0.0034 | Train Acc: 0.9985 | Val Loss: 0.0063 | Val Acc: 0.9975\n",
      "Epoch 20/50 | Train Loss: 0.0031 | Train Acc: 0.9985 | Val Loss: 0.0077 | Val Acc: 0.9963\n",
      "Epoch 21/50 | Train Loss: 0.0033 | Train Acc: 0.9985 | Val Loss: 0.0065 | Val Acc: 0.9975\n",
      "Epoch 22/50 | Train Loss: 0.0031 | Train Acc: 0.9985 | Val Loss: 0.0063 | Val Acc: 0.9975\n",
      "Epoch 23/50 | Train Loss: 0.0033 | Train Acc: 0.9981 | Val Loss: 0.0079 | Val Acc: 0.9963\n",
      "Epoch 24/50 | Train Loss: 0.0031 | Train Acc: 0.9985 | Val Loss: 0.0062 | Val Acc: 0.9975\n",
      "Epoch 25/50 | Train Loss: 0.0028 | Train Acc: 0.9985 | Val Loss: 0.0071 | Val Acc: 0.9963\n",
      "Epoch 26/50 | Train Loss: 0.0029 | Train Acc: 0.9985 | Val Loss: 0.0068 | Val Acc: 0.9963\n",
      "Epoch 27/50 | Train Loss: 0.0032 | Train Acc: 0.9985 | Val Loss: 0.0075 | Val Acc: 0.9963\n",
      "Epoch 28/50 | Train Loss: 0.0030 | Train Acc: 0.9985 | Val Loss: 0.0073 | Val Acc: 0.9963\n",
      "Epoch 29/50 | Train Loss: 0.0033 | Train Acc: 0.9985 | Val Loss: 0.0063 | Val Acc: 0.9975\n",
      "Epoch 30/50 | Train Loss: 0.0030 | Train Acc: 0.9985 | Val Loss: 0.0073 | Val Acc: 0.9963\n",
      "Epoch 31/50 | Train Loss: 0.0026 | Train Acc: 0.9985 | Val Loss: 0.0071 | Val Acc: 0.9963\n",
      "Epoch 32/50 | Train Loss: 0.0027 | Train Acc: 0.9981 | Val Loss: 0.0081 | Val Acc: 0.9963\n",
      "Epoch 33/50 | Train Loss: 0.0027 | Train Acc: 0.9988 | Val Loss: 0.0069 | Val Acc: 0.9963\n",
      "Epoch 34/50 | Train Loss: 0.0027 | Train Acc: 0.9985 | Val Loss: 0.0072 | Val Acc: 0.9963\n",
      "Epoch 35/50 | Train Loss: 0.0026 | Train Acc: 0.9988 | Val Loss: 0.0075 | Val Acc: 0.9963\n",
      "Epoch 36/50 | Train Loss: 0.0026 | Train Acc: 0.9988 | Val Loss: 0.0070 | Val Acc: 0.9975\n",
      "Epoch 37/50 | Train Loss: 0.0028 | Train Acc: 0.9981 | Val Loss: 0.0070 | Val Acc: 0.9975\n",
      "Epoch 38/50 | Train Loss: 0.0026 | Train Acc: 0.9988 | Val Loss: 0.0074 | Val Acc: 0.9963\n",
      "Epoch 39/50 | Train Loss: 0.0027 | Train Acc: 0.9985 | Val Loss: 0.0075 | Val Acc: 0.9963\n",
      "Epoch 40/50 | Train Loss: 0.0026 | Train Acc: 0.9988 | Val Loss: 0.0071 | Val Acc: 0.9963\n",
      "Epoch 41/50 | Train Loss: 0.0029 | Train Acc: 0.9981 | Val Loss: 0.0076 | Val Acc: 0.9963\n",
      "Epoch 42/50 | Train Loss: 0.0029 | Train Acc: 0.9981 | Val Loss: 0.0083 | Val Acc: 0.9963\n",
      "Epoch 43/50 | Train Loss: 0.0028 | Train Acc: 0.9985 | Val Loss: 0.0076 | Val Acc: 0.9963\n",
      "Epoch 44/50 | Train Loss: 0.0026 | Train Acc: 0.9988 | Val Loss: 0.0096 | Val Acc: 0.9963\n",
      "Epoch 45/50 | Train Loss: 0.0027 | Train Acc: 0.9988 | Val Loss: 0.0082 | Val Acc: 0.9963\n",
      "Epoch 46/50 | Train Loss: 0.0026 | Train Acc: 0.9988 | Val Loss: 0.0078 | Val Acc: 0.9963\n",
      "Epoch 47/50 | Train Loss: 0.0025 | Train Acc: 0.9988 | Val Loss: 0.0081 | Val Acc: 0.9963\n",
      "Epoch 48/50 | Train Loss: 0.0026 | Train Acc: 0.9988 | Val Loss: 0.0083 | Val Acc: 0.9963\n",
      "Epoch 49/50 | Train Loss: 0.0025 | Train Acc: 0.9988 | Val Loss: 0.0078 | Val Acc: 0.9963\n",
      "Epoch 50/50 | Train Loss: 0.0026 | Train Acc: 0.9988 | Val Loss: 0.0081 | Val Acc: 0.9963\n"
     ]
    }
   ],
   "source": [
    "# Training loop with validation\n",
    "epochs = 50\n",
    "device = torch.device(\"cuda\" if torch.cuda.is_available() else \"cpu\")\n",
    "model.to(device)\n",
    "\n",
    "for epoch in range(epochs):\n",
    "    # Training Phase\n",
    "    model.train()\n",
    "    total_loss = 0\n",
    "    correct = 0\n",
    "    total_train = 0\n",
    "\n",
    "    for batch_X, batch_y in train_loader:\n",
    "        batch_X, batch_y = batch_X.to(device), batch_y.to(device)\n",
    "\n",
    "        optimizer.zero_grad()\n",
    "        outputs = model(batch_X)\n",
    "        loss = criterion(outputs, batch_y)\n",
    "        loss.backward()\n",
    "        optimizer.step()\n",
    "\n",
    "        total_loss += loss.item() * batch_X.size(0)\n",
    "        _, predicted = torch.max(outputs, 1)\n",
    "        correct += (predicted == batch_y).sum().item()\n",
    "        total_train += batch_y.size(0)\n",
    "\n",
    "    train_accuracy = correct / total_train\n",
    "    avg_train_loss = total_loss / total_train\n",
    "\n",
    "    # Validation Phase\n",
    "    model.eval()\n",
    "    val_loss = 0\n",
    "    val_correct = 0\n",
    "    total_val = 0\n",
    "\n",
    "    with torch.no_grad():\n",
    "        for val_X, val_y in test_loader:\n",
    "            val_X, val_y = val_X.to(device), val_y.to(device)\n",
    "\n",
    "            val_outputs = model(val_X)\n",
    "            loss = criterion(val_outputs, val_y)\n",
    "\n",
    "            val_loss += loss.item() * val_X.size(0)\n",
    "            _, val_predicted = torch.max(val_outputs, 1)\n",
    "            val_correct += (val_predicted == val_y).sum().item()\n",
    "            total_val += val_y.size(0)\n",
    "\n",
    "    val_accuracy = val_correct / total_val\n",
    "    avg_val_loss = val_loss / total_val\n",
    "\n",
    "    print(f\"Epoch {epoch+1}/{epochs} | \"\n",
    "          f\"Train Loss: {avg_train_loss:.4f} | Train Acc: {train_accuracy:.4f} | \"\n",
    "          f\"Val Loss: {avg_val_loss:.4f} | Val Acc: {val_accuracy:.4f}\")\n"
   ]
  },
  {
   "cell_type": "code",
   "execution_count": 7,
   "id": "cd8143bc",
   "metadata": {},
   "outputs": [
    {
     "name": "stdout",
     "output_type": "stream",
     "text": [
      "✅ Model and class labels saved.\n"
     ]
    },
    {
     "data": {
      "text/plain": [
       "['scaler.pkl']"
      ]
     },
     "execution_count": 7,
     "metadata": {},
     "output_type": "execute_result"
    }
   ],
   "source": [
    "# Save model and label encoder classes\n",
    "torch.save(model.state_dict(), \"gesture_classifier_model.pth\")\n",
    "np.save(\"gesture_classes.npy\", label_encoder.classes_)\n",
    "print(\"✅ Model and class labels saved.\")\n",
    "import joblib\n",
    "joblib.dump(scaler, 'scaler.pkl')"
   ]
  },
  {
   "cell_type": "code",
   "execution_count": 8,
   "id": "215548d1",
   "metadata": {},
   "outputs": [
    {
     "name": "stdout",
     "output_type": "stream",
     "text": [
      "Test Loss: 0.1024, Test Accuracy: 0.9963\n"
     ]
    }
   ],
   "source": [
    "# Evaluate the model on the test set\n",
    "model.eval()\n",
    "test_loss = 0\n",
    "test_correct = 0\n",
    "\n",
    "with torch.no_grad():\n",
    "    for X_batch, y_batch in test_loader:\n",
    "        outputs = model(X_batch)\n",
    "        loss = criterion(outputs, y_batch)\n",
    "        test_loss += loss.item()\n",
    "        _, predicted = torch.max(outputs, 1)\n",
    "        test_correct += (predicted == y_batch).sum().item()\n",
    "\n",
    "test_accuracy = test_correct / len(test_dataset)\n",
    "print(f\"Test Loss: {test_loss:.4f}, Test Accuracy: {test_accuracy:.4f}\")"
   ]
  },
  {
   "cell_type": "code",
   "execution_count": null,
   "id": "c42ef5cd",
   "metadata": {},
   "outputs": [],
   "source": []
  }
 ],
 "metadata": {
  "kernelspec": {
   "display_name": ".venv",
   "language": "python",
   "name": "python3"
  },
  "language_info": {
   "codemirror_mode": {
    "name": "ipython",
    "version": 3
   },
   "file_extension": ".py",
   "mimetype": "text/x-python",
   "name": "python",
   "nbconvert_exporter": "python",
   "pygments_lexer": "ipython3",
   "version": "3.9.22"
  }
 },
 "nbformat": 4,
 "nbformat_minor": 5
}

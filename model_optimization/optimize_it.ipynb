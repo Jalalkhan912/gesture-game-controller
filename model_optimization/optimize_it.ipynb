{
 "cells": [
  {
   "cell_type": "code",
   "execution_count": 9,
   "id": "389248fc",
   "metadata": {},
   "outputs": [],
   "source": [
    "import numpy as np\n",
    "import torch\n",
    "import torch.nn as nn\n",
    "import time\n",
    "import joblib"
   ]
  },
  {
   "cell_type": "code",
   "execution_count": 10,
   "id": "00b92fd9",
   "metadata": {},
   "outputs": [
    {
     "data": {
      "text/plain": [
       "GestureClassifier(\n",
       "  (model): Sequential(\n",
       "    (0): Linear(in_features=10, out_features=32, bias=True)\n",
       "    (1): ReLU()\n",
       "    (2): Linear(in_features=32, out_features=16, bias=True)\n",
       "    (3): ReLU()\n",
       "    (4): Linear(in_features=16, out_features=4, bias=True)\n",
       "  )\n",
       ")"
      ]
     },
     "execution_count": 10,
     "metadata": {},
     "output_type": "execute_result"
    }
   ],
   "source": [
    "# Load the scaler used during training\n",
    "scaler = joblib.load('scaler.pkl')\n",
    "\n",
    "# Load class labels\n",
    "classes = np.load(\"gesture_classes.npy\", allow_pickle=True)\n",
    "num_classes = len(classes)\n",
    "\n",
    "# Define the model for 10 input features (5 landmarks × 2 for x and y)\n",
    "class GestureClassifier(nn.Module):\n",
    "    def __init__(self, input_size=10, num_classes=4):\n",
    "        super(GestureClassifier, self).__init__()\n",
    "        self.model = nn.Sequential(\n",
    "            nn.Linear(input_size, 32),\n",
    "            nn.ReLU(),\n",
    "            nn.Linear(32, 16),\n",
    "            nn.ReLU(),\n",
    "            nn.Linear(16, num_classes)\n",
    "        )\n",
    "\n",
    "    def forward(self, x):\n",
    "        return self.model(x)\n",
    "\n",
    "# Initialize and load model weights\n",
    "model = GestureClassifier(input_size=10, num_classes=num_classes)\n",
    "model.load_state_dict(torch.load(\"gesture_classifier_model.pth\", map_location=torch.device('cpu')))\n",
    "model.eval()"
   ]
  },
  {
   "cell_type": "code",
   "execution_count": 11,
   "id": "a7185840",
   "metadata": {},
   "outputs": [
    {
     "name": "stdout",
     "output_type": "stream",
     "text": [
      "Average Inference Time per Sample: 0.157190 ms\n"
     ]
    }
   ],
   "source": [
    "# Dummy input (you can also scale real input using your scaler)\n",
    "example_input = np.random.rand(1, 10).astype(np.float32)\n",
    "example_input_scaled = scaler.transform(example_input)\n",
    "input_tensor = torch.from_numpy(example_input_scaled)\n",
    "\n",
    "# Benchmark inference time\n",
    "repetitions = 1000\n",
    "with torch.no_grad():\n",
    "    start_time = time.time()\n",
    "    for _ in range(repetitions):\n",
    "        output = model(input_tensor)\n",
    "    end_time = time.time()\n",
    "\n",
    "avg_inference_time_ms = (end_time - start_time) / repetitions * 1000\n",
    "print(f\"Average Inference Time per Sample: {avg_inference_time_ms:.6f} ms\")"
   ]
  },
  {
   "cell_type": "code",
   "execution_count": 12,
   "id": "bfdc7d64",
   "metadata": {},
   "outputs": [
    {
     "name": "stdout",
     "output_type": "stream",
     "text": [
      "[TorchScript] Average Inference Time per Sample: 0.081992 ms\n"
     ]
    }
   ],
   "source": [
    "# Dummy input\n",
    "example_input = np.random.rand(1, 10).astype(np.float32)\n",
    "example_input_scaled = scaler.transform(example_input)\n",
    "input_tensor = torch.from_numpy(example_input_scaled)\n",
    "\n",
    "# 🔁 Convert to TorchScript using tracing\n",
    "traced_model = torch.jit.trace(model, input_tensor)\n",
    "traced_model.save(\"gesture_classifier_traced.pt\")\n",
    "\n",
    "# 🔁 Load the TorchScript model\n",
    "optimized_model = torch.jit.load(\"gesture_classifier_traced.pt\")\n",
    "optimized_model.eval()\n",
    "\n",
    "# ⏱️ Benchmarking the TorchScript model\n",
    "repetitions = 1000\n",
    "with torch.no_grad():\n",
    "    start_time = time.time()\n",
    "    for _ in range(repetitions):\n",
    "        output = optimized_model(input_tensor)\n",
    "    end_time = time.time()\n",
    "\n",
    "avg_inference_time_ms = (end_time - start_time) / repetitions * 1000\n",
    "print(f\"[TorchScript] Average Inference Time per Sample: {avg_inference_time_ms:.6f} ms\")"
   ]
  },
  {
   "cell_type": "code",
   "execution_count": 13,
   "id": "b982050b",
   "metadata": {},
   "outputs": [
    {
     "name": "stdout",
     "output_type": "stream",
     "text": [
      "[Quantized + TorchScript] Avg Inference Time: 0.122899 ms\n"
     ]
    }
   ],
   "source": [
    "# 🔍 Apply dynamic quantization (only Linear layers)\n",
    "quantized_model = torch.quantization.quantize_dynamic(\n",
    "    model, {nn.Linear}, dtype=torch.qint8\n",
    ")\n",
    "\n",
    "# Dummy input\n",
    "example_input = np.random.rand(1, 10).astype(np.float32)\n",
    "input_scaled = scaler.transform(example_input)\n",
    "input_tensor = torch.from_numpy(input_scaled)\n",
    "\n",
    "# 🔁 Convert quantized model to TorchScript\n",
    "traced_quant_model = torch.jit.trace(quantized_model, input_tensor)\n",
    "traced_quant_model.save(\"gesture_classifier_quant_traced.pt\")\n",
    "\n",
    "# 🔁 Load the quantized + traced model\n",
    "optimized_model = torch.jit.load(\"gesture_classifier_quant_traced.pt\")\n",
    "optimized_model.eval()\n",
    "\n",
    "# ⏱️ Benchmarking\n",
    "repetitions = 1000\n",
    "with torch.no_grad():\n",
    "    start_time = time.time()\n",
    "    for _ in range(repetitions):\n",
    "        output = optimized_model(input_tensor)\n",
    "    end_time = time.time()\n",
    "\n",
    "avg_inference_time_ms = (end_time - start_time) / repetitions * 1000\n",
    "print(f\"[Quantized + TorchScript] Avg Inference Time: {avg_inference_time_ms:.6f} ms\")"
   ]
  },
  {
   "cell_type": "code",
   "execution_count": 14,
   "id": "c78fd058",
   "metadata": {},
   "outputs": [
    {
     "name": "stdout",
     "output_type": "stream",
     "text": [
      "[Quantized + TorchScript] Avg Inference Time: 0.157802 ms\n"
     ]
    }
   ],
   "source": [
    "# ⏱️ Benchmarking\n",
    "repetitions = 1000\n",
    "with torch.no_grad():\n",
    "    start_time = time.time()\n",
    "    for _ in range(repetitions):\n",
    "        output = optimized_model(input_tensor)\n",
    "    end_time = time.time()\n",
    "\n",
    "avg_inference_time_ms = (end_time - start_time) / repetitions * 1000\n",
    "print(f\"[Quantized + TorchScript] Avg Inference Time: {avg_inference_time_ms:.6f} ms\")"
   ]
  },
  {
   "cell_type": "code",
   "execution_count": null,
   "id": "fe5d323b",
   "metadata": {},
   "outputs": [],
   "source": []
  }
 ],
 "metadata": {
  "kernelspec": {
   "display_name": ".venv",
   "language": "python",
   "name": "python3"
  },
  "language_info": {
   "codemirror_mode": {
    "name": "ipython",
    "version": 3
   },
   "file_extension": ".py",
   "mimetype": "text/x-python",
   "name": "python",
   "nbconvert_exporter": "python",
   "pygments_lexer": "ipython3",
   "version": "3.9.22"
  }
 },
 "nbformat": 4,
 "nbformat_minor": 5
}
